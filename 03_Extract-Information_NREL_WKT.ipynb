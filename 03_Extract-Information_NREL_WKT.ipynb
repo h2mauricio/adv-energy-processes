{
 "cells": [
  {
   "cell_type": "markdown",
   "id": "a7fa17ce",
   "metadata": {},
   "source": [
    "# Extract Wind Information from NREL WKT\n",
    "By Mauricio Hernandez"
   ]
  },
  {
   "cell_type": "markdown",
   "id": "a6d231ca",
   "metadata": {},
   "source": [
    "Goal(s):\n",
    "- Collect and download data from a set of wind stations using the NREL API Wind Toolkit Data Downloads.\n",
    "- Get insights from wind speed and wind direction data"
   ]
  },
  {
   "cell_type": "markdown",
   "id": "eafe8d33",
   "metadata": {},
   "source": [
    "---\n",
    "See documentation at: https://developer.nrel.gov/docs/wind/wind-toolkit/mexico-wtk.download/ <br>\n",
    "See examples at: https://developer.nrel.gov/docs/wind/wind-toolkit/mexico-wtk.download/#examples"
   ]
  },
  {
   "cell_type": "code",
   "execution_count": null,
   "id": "83f37be3",
   "metadata": {},
   "outputs": [],
   "source": [
    "#Import libraries\n",
    "import requests"
   ]
  },
  {
   "cell_type": "code",
   "execution_count": 28,
   "id": "9fa38daa",
   "metadata": {},
   "outputs": [],
   "source": [
    "#Read API_key\n",
    "with open('NREL_API_Key.txt') as f:\n",
    "    line = f.readline()\n",
    "api_key = lines.replace('\\n', '')"
   ]
  },
  {
   "cell_type": "markdown",
   "id": "dc995058",
   "metadata": {},
   "source": [
    "*Define longitude and latitude and other parameters*"
   ]
  },
  {
   "cell_type": "code",
   "execution_count": 42,
   "id": "68a628ff",
   "metadata": {},
   "outputs": [],
   "source": [
    "lon = -100.3555\n",
    "lat =  20.5888\n",
    "email = 'mmh54@duke.edu'\n",
    "attr = 'windspeed_10m,winddirection_10m'\n",
    "year = '2007,2014'"
   ]
  },
  {
   "cell_type": "markdown",
   "id": "eae47cbe",
   "metadata": {},
   "source": [
    "## Option 1: Send HTTP requests"
   ]
  },
  {
   "cell_type": "code",
   "execution_count": 43,
   "id": "73f2d321",
   "metadata": {},
   "outputs": [
    {
     "name": "stdout",
     "output_type": "stream",
     "text": [
      "HTML:\n",
      " {\"inputs\":{\"body\":{},\"params\":{},\"query\":{\"attributes\":\"windspeed_10m,winddirection_10m\",\"names\":\"2007,2014\",\"utc\":\"false\",\"leap_day\":\"true\",\"email\":\"mmh54@duke.edu\",\"wkt\":\"POINT(-100.355500 20.588800)\"}},\"metadata\":{\"version\":\"2.0.0\",\"resultset\":{\"count\":1}},\"status\":200,\"outputs\":{\"message\":\"File generation in progress. An email will be sent to mmh54@duke.edu when the download is ready.\",\"downloadUrl\":\"https://mapfiles.nrel.gov/data/wind/f83a6f90c94da23c5019747cc32282b1.zip\"},\"errors\":[]}\n"
     ]
    }
   ],
   "source": [
    "#Request format\n",
    "#https://developer.nrel.gov//api/wind-toolkit/v2/wind/mexico-wtk-download.format?parameters\n",
    "try:\n",
    "    url = \"https://developer.nrel.gov/api/wind-toolkit/v2/wind/mexico-wtk-download.json?api_key=%s&attributes=%s&names=%s&utc=false&leap_day=true&email=%s&wkt=POINT(%f %f)\"  % (api_key, attr, year, email, lon, lat)\n",
    "    r = requests.get(url)\n",
    "    print(\"HTML:\\n\", r.text)\n",
    "except:\n",
    "    print(\"Invalid URL or some error occured while making the GET request to the specified URL\")"
   ]
  },
  {
   "cell_type": "markdown",
   "id": "e7151107",
   "metadata": {},
   "source": [
    "## Option 2: POST request where a very large WKT value is requiredPOST request"
   ]
  },
  {
   "cell_type": "code",
   "execution_count": 41,
   "id": "b1be5770",
   "metadata": {},
   "outputs": [
    {
     "name": "stdout",
     "output_type": "stream",
     "text": [
      "{\"inputs\":{\"body\":{\"attributes\":\"windspeed_10m,winddirection_10m\",\"names\":\"2014\",\"utc\":\"false\",\"leap_day\":\"true\",\"email\":\"mmh54@duke.edu\",\"wkt\":\"POLYGON((-100.3555 20.5888, -100.3555 20.3444, -100.4555 20.3444, -100.3555 20.5888))\"},\"params\":{},\"query\":{}},\"metadata\":{\"version\":\"2.0.0\",\"resultset\":{\"count\":1}},\"status\":200,\"outputs\":{\"message\":\"File generation in progress. An email will be sent to mmh54@duke.edu when the download is ready.\",\"downloadUrl\":\"https://mapfiles.nrel.gov/data/wind/d99c135cab50cada024ac351eaa5469f.zip\"},\"errors\":[]}\n"
     ]
    }
   ],
   "source": [
    "url = \"https://developer.nrel.gov/api/wind-toolkit/v2/wind/mexico-wtk-download.json?api_key=%s\"  % (api_key)\n",
    "\n",
    "polygon = '(-100.3555 20.5888, -100.3555 20.3444, -100.4555 20.3444, -100.3555 20.5888)'\n",
    "\n",
    "#POLYGON instead of point\n",
    "payload = 'attributes=%s&names=2014&utc=false&leap_day=true&email=%s&wkt=POLYGON(%s)'  % (attr, email, polygon)\n",
    "\n",
    "headers = {\n",
    "    'content-type': \"application/x-www-form-urlencoded\",\n",
    "    'cache-control': \"no-cache\"\n",
    "}\n",
    "\n",
    "response = requests.request(\"POST\", url, data=payload, headers=headers)\n",
    "\n",
    "print(response.text)"
   ]
  },
  {
   "cell_type": "markdown",
   "id": "345d6963",
   "metadata": {},
   "source": [
    "---\n",
    "## Activity:\n",
    "1. Use the client's location or your location and download the following data for the assigned year (2007-2014): \n",
    "- windspeed_10m, windspeed_40m, windspeed_60m, windspeed_80m, windspeed_100m, winddirection_10m, winddirection_40m, winddirection_60m, winddirection_80m, winddirection_100m.\n",
    "\n",
    "2.  Obtain the descriptive statistics of the annual values of windspeeds grouped by height. i.e. average wind speed at 10 meters in 2007, average wind speed at 80 meters in 2007. Based on the data, and answer the following questions:\n",
    "- Does the average wind speed increases/decreases as the height increases?\n",
    "- Does the variability of the wind speed increases/decreases as the height increases?\n",
    "\n",
    "3.  From step 3, select the data with the maximum and minimum annual average speeds (i.e heights of 10m and 60m) and obtain the descriptive statistics of the wind directions. Compare the median values from each data subset? Are they similar?"
   ]
  },
  {
   "cell_type": "code",
   "execution_count": null,
   "id": "12d6cd55",
   "metadata": {},
   "outputs": [],
   "source": []
  }
 ],
 "metadata": {
  "kernelspec": {
   "display_name": "Python 3 (ipykernel)",
   "language": "python",
   "name": "python3"
  },
  "language_info": {
   "codemirror_mode": {
    "name": "ipython",
    "version": 3
   },
   "file_extension": ".py",
   "mimetype": "text/x-python",
   "name": "python",
   "nbconvert_exporter": "python",
   "pygments_lexer": "ipython3",
   "version": "3.9.7"
  }
 },
 "nbformat": 4,
 "nbformat_minor": 5
}
