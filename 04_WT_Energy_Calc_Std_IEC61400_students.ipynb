{
 "cells": [
  {
   "cell_type": "markdown",
   "id": "31c5472a",
   "metadata": {},
   "source": [
    "# Estimation of Wind Turbine Energy Generation \n",
    "By Mauricio Hernandez"
   ]
  },
  {
   "cell_type": "markdown",
   "id": "a6d231ca",
   "metadata": {},
   "source": [
    "## Goal(s):\n",
    "\n",
    "- Collect and download data from client site from a set of wind stations using the NREL API Wind Toolkit Data Downloads.\n",
    "- Get insights from wind speed and wind direction data\n",
    "- Estimate the Energy Generation WT using parametric and non-parametric methods\n",
    "- Know the procedure defined by the Standard IEC 61400-12-1 to measure the power performance of a WT.\n",
    "\n",
    "---\n",
    "\n",
    "**Main References:**\n",
    "1. Vaishali Sohoni, S. C. Gupta, R. K. Nema, \"A Critical Review on Wind Turbine Power Curve Modelling Techniques and Their Applications in Wind Based Energy Systems\", Journal of Energy, vol. 2016, Article ID 8519785, 18 pages, 2016. https://doi.org/10.1155/2016/8519785\n",
    "\n",
    "2. NREL Wind Toolkit. https://developer.nrel.gov/docs/wind/wind-toolkit/mexico-wtk.download/ \n",
    "\n",
    "3. IEC 61400-12-1 Ed. 2.0 b:2017. https://webstore.ansi.org/Standards/IEC/IEC6140012Ed2017?gclid=Cj0KCQiAybaRBhDtARIsAIEG3km-XBhqVUeiIgIzgOYhkRR3cSPheA_Z4vfjCvsK5kYqS70XxIkvw20aAp_rEALw_wcB"
   ]
  },
  {
   "cell_type": "markdown",
   "id": "fe0ea871",
   "metadata": {},
   "source": [
    "## Standard IEC 61400-12-1\n",
    "The standard IEC 61400-12-1 is the most accepted standard for power performance measurement of single wind turbines. It specifies the procedure to measrue the performance characteristics of single wind turbines. Its this methodology requires  simultaneous measuremens of wind speed and power output at the test site to estimate the power curve. \n",
    "\n",
    "The IEC standard uses 10-minute averaged data grouped into wind speed intervals of 0.5 m/s (bins). This 10-minute averaging of data introduces systematic averaging errors and short wind fluctuations are killed off.\n",
    "\n",
    "Although the IEC power curve considers the wind condition of the current site it may not always be appropriate to apply to the wind conditions of other sites. \n",
    "The discrete model prescribed in IEC 61400-12 is simple, but a large amount of data is required to develop a reliable model.\n",
    "\n",
    "---"
   ]
  },
  {
   "cell_type": "code",
   "execution_count": null,
   "id": "83f37be3",
   "metadata": {},
   "outputs": [],
   "source": [
    "#Import libraries\n",
    "#pip install windrose\n",
    "import matplotlib.pyplot as plt\n",
    "import numpy as np\n",
    "import pandas as pd\n",
    "from datetime import datetime\n",
    "import math\n",
    "import seaborn as sns\n",
    "from windrose import WindroseAxes"
   ]
  },
  {
   "cell_type": "markdown",
   "id": "dc995058",
   "metadata": {},
   "source": [
    "## 1. Read and Explore Wind Data"
   ]
  },
  {
   "cell_type": "code",
   "execution_count": null,
   "id": "acf2c8d2",
   "metadata": {},
   "outputs": [],
   "source": [
    "year = \n",
    "lon= #-100.388824\n",
    "lat= #20.59169\n",
    "height = #10 # in m\n",
    "print('Wind site location: \\n Longitude: %.4f, Latitude: %.4f' % (lon, lat))"
   ]
  },
  {
   "cell_type": "code",
   "execution_count": null,
   "id": "68a628ff",
   "metadata": {},
   "outputs": [],
   "source": [
    "#Read data\n",
    "df_wind = pd.read_csv('./inputs/wind_site_2010.csv', index_col = False, skiprows = 1)\n",
    "df_wind.insert(0, 'Date', datetime(year,1,1,0,0,0))\n",
    "df_wind['Date'] = pd.to_datetime(df_wind[['Month','Day','Year', 'Hour', 'Minute']])\n",
    "df_wind.head()"
   ]
  },
  {
   "cell_type": "code",
   "execution_count": null,
   "id": "428b9604",
   "metadata": {
    "scrolled": true
   },
   "outputs": [],
   "source": [
    "df_wind.info()"
   ]
  },
  {
   "cell_type": "markdown",
   "id": "9d65efab",
   "metadata": {},
   "source": [
    "## 1.1 Descriptive Statistics"
   ]
  },
  {
   "cell_type": "code",
   "execution_count": null,
   "id": "2b196e16",
   "metadata": {},
   "outputs": [],
   "source": [
    "# change name of column\n",
    "df_wind = df_wind.rename(columns={\"wind speed at 10m (m/s)\":\"Wind_speed\",\n",
    "                                  \"wind direction at 10m (deg)\":\"Wind_dir\"})\n",
    "df_wind_stats = \n",
    "df_wind_stats"
   ]
  },
  {
   "cell_type": "markdown",
   "id": "de510e2e",
   "metadata": {},
   "source": [
    "### Questions:\n",
    "\n",
    "---\n",
    "\n",
    "1. What is the minimum, average, maximum, and standard deviation wind speed?<br>\n",
    "Answer: \n",
    "    \n",
    "2. What is the median value of the wind direction?<br>\n",
    "Answer: \n",
    "    \n",
    "3. What is the sample size (n)?<br>\n",
    "Answer: \n",
    "    \n",
    "<b>Save these values in the following variables:<b>"
   ]
  },
  {
   "cell_type": "code",
   "execution_count": null,
   "id": "fd557d39",
   "metadata": {},
   "outputs": [],
   "source": [
    "avg_wind_speed = df_wind_stats.Wind_speed['mean']\n",
    "std_wind_speed = \n",
    "min_wind_speed = \n",
    "med_wind_dir =\n",
    "max_wind_speed = \n",
    "\n",
    "n_sample = df_wind_stats.Wind_speed['count']"
   ]
  },
  {
   "cell_type": "code",
   "execution_count": null,
   "id": "a630bf34",
   "metadata": {},
   "outputs": [],
   "source": [
    "#save descriptive statistics\n",
    "df_wind_stats.to_csv('./outputs/descriptive_stats_wind_%i'% height)"
   ]
  },
  {
   "cell_type": "markdown",
   "id": "112118fa",
   "metadata": {},
   "source": [
    "### Historical Wind Speed"
   ]
  },
  {
   "cell_type": "code",
   "execution_count": null,
   "id": "46e587a9",
   "metadata": {},
   "outputs": [],
   "source": [
    "fig, ax = plt.subplots(figsize=(12,6))\n",
    "\n",
    "#plt.plot(df_wind.Date, df_wind.Wind_speed, 'g',linestyle = 'solid')\n",
    "plt.grid(True)\n",
    "plt.title(\"Hourly Wind Speeds in 2010 [height= %im, lon=%.2f, lat=%.2f]\" % (height, lon, lat))\n",
    "plt.ylabel(\"Wind Speed [m/s]\")\n",
    "#plt.savefig(\"./outputs/wind_speed_2010_%s.png\" % height, transparent=True)\n",
    "plt.show()"
   ]
  },
  {
   "cell_type": "markdown",
   "id": "7e3e5333",
   "metadata": {},
   "source": [
    "**Visually check the variability of the wind speed**"
   ]
  },
  {
   "cell_type": "code",
   "execution_count": null,
   "id": "bb8db13a",
   "metadata": {},
   "outputs": [],
   "source": [
    "ini_date ='2010-6-1'\n",
    "end_date = \n",
    "\n",
    "#date_mask = (df_wind['Date'] > ini_date) & (df_wind['Date'] <= end_date)\n",
    "\n",
    "fig, ax = plt.subplots(figsize=(12,6))\n",
    "plt.plot(df_wind.loc[date_mask].Date, df_wind.loc[date_mask].Wind_speed, 'g',linestyle = 'solid')\n",
    "plt.grid(True)\n",
    "plt.title(\"Hourly Wind Speeds in from %s to %s [height= %im, lon=%.2f, lat=%.2f]\" % (ini_date, end_date, height, lon, lat))\n",
    "plt.ylabel(\"Wind Speed [m/s]\")\n",
    "#plt.savefig(\"./outputs/wind_speed_%s_date_ranges.png\" % height, transparent=True)\n",
    "plt.show()"
   ]
  },
  {
   "cell_type": "code",
   "execution_count": null,
   "id": "c3db24a0",
   "metadata": {},
   "outputs": [],
   "source": [
    "ini_date ='2010-12-1'\n",
    "#end_date = '2010-12-15'\n",
    "\n",
    "date_mask = (df_wind['Date'] > ini_date) & (df_wind['Date'] <= end_date)\n",
    "\n",
    "fig, ax = plt.subplots(figsize=(12,6))\n",
    "plt.plot(df_wind.loc[date_mask].Date, df_wind.loc[date_mask].Wind_speed, 'purple',linestyle = 'solid')\n",
    "plt.grid(True)\n",
    "plt.title(\"Hourly Wind Speeds in from %s to %s [height= %im, lon=%.2f, lat=%.2f]\" % (ini_date, end_date, height, lon, lat))\n",
    "plt.ylabel(\"Wind Speed [m/s]\")\n",
    "#plt.savefig(\"./outputs/wind_speed_%i_date_ranges.png\" % height, transparent=True)\n",
    "plt.show()"
   ]
  },
  {
   "cell_type": "markdown",
   "id": "377f663f",
   "metadata": {},
   "source": [
    "### Wind Direction"
   ]
  },
  {
   "cell_type": "code",
   "execution_count": null,
   "id": "6f4356f5",
   "metadata": {},
   "outputs": [],
   "source": [
    "fig, ax = plt.subplots(figsize=(12,6))\n",
    "df_wind.Wind_dir.plot(kind='hist', bins = 36, alpha=0.6)\n",
    "plt.grid(True)\n",
    "plt.title(\"Histogram of Wind Speeds [height= %im, lon=%.2f, lat=%.2f]\" % (height, lon, lat))\n",
    "plt.xlabel(\"Wind Direction [Azimuth Degrees]\")\n",
    "#plt.savefig(\"./outputs/hist_wind_dir_%i.png\" % height, transparent=True)\n",
    "plt.show()"
   ]
  },
  {
   "cell_type": "code",
   "execution_count": null,
   "id": "eeb441e6",
   "metadata": {},
   "outputs": [],
   "source": [
    "# plotting scatterplot with histograms for wind speed and wind direction\n",
    "p = sns.jointplot(data=df_wind, x=\"Wind_speed\", y=\"Wind_dir\", kind ='hist', height=10)\n",
    "p.fig.suptitle(\"Scatter Plot with Histograms for Wind Speed and Direction\\n [height= %im, lon=%.2f, lat=%.2f]\" \n",
    "               % (height, lon, lat), fontsize=18)\n",
    "p.set_axis_labels('Wind Speed [m/s]', 'Wind Direction [Azimuth Degrees]', fontsize=12)\n",
    "p.ax_joint.collections[0].set_alpha(0.6)\n",
    "p.fig.tight_layout()\n",
    "p.fig.subplots_adjust(top=0.9) # Reduce plot size to make room for title\n",
    "\n",
    "#p.savefig(\"./outputs/scatter_hist_wind_dir_%i.png\" % height, transparent=True)"
   ]
  },
  {
   "cell_type": "markdown",
   "id": "72fb4fb6",
   "metadata": {},
   "source": [
    "### Direction of Wind Speed"
   ]
  },
  {
   "cell_type": "code",
   "execution_count": null,
   "id": "bb4ab77e",
   "metadata": {},
   "outputs": [],
   "source": [
    "ax = WindroseAxes.from_ax()\n",
    "ax.bar(df_wind['Wind_dir'], df_wind['Wind_speed'], normed=False, opening=0.5, edgecolor='white')\n",
    "\n",
    "ax.set_xticklabels(['E', 'NE', 'N', 'NW',  'W', 'SW', 'S', 'SE'])\n",
    "ax.set_theta_zero_location('E')\n",
    "ax.set_title('Direction of Wind Speed ')\n",
    "ax.set_legend()\n",
    "plt.savefig(\"./outputs/azimuth_wind_speed_dir_%i.png\" % height, transparent=True)\n",
    "plt.show()"
   ]
  },
  {
   "cell_type": "markdown",
   "id": "4e2eb3f9",
   "metadata": {},
   "source": [
    "## 2. Estimating Annual Energy Generation "
   ]
  },
  {
   "cell_type": "markdown",
   "id": "859b6fb8",
   "metadata": {},
   "source": [
    "Turbine GEV MP R 32m 275 kW \n",
    "---\n",
    "\n",
    "**\"The GEV MP meets all the specific requirements of small grids and outperforms any turbine of its class.\"**\n",
    "\n",
    "Relevant Specifications:\n",
    "- Rotor diameter : $32 m$\n",
    "- Cut in wind speed: $v_{in}= 3.5 m/s$ \\\n",
    "- Rated wind speed: $v_{r}= 12.5 m/s$ \\\n",
    "- Cut off wind speed: $v_{off}= 25 m/s$ \\\n",
    "- Nominal Power: $P_{max}= 275 kW$\n",
    "\n",
    "Ref: [GEV MP C Datasheet](http://www.vergnet.com/wp-content/uploads/2016/01/DC-11-00-01-EN_GEV_MP-C_275_kW.pdf)"
   ]
  },
  {
   "cell_type": "markdown",
   "id": "ee7820ea",
   "metadata": {},
   "source": [
    "### 2.1 Using Wind Power Equation \n",
    "The theoretical Power Output of a wind  turbine (WT) can be expressed by the following equation:\n",
    "    \n",
    "$$P=\\frac{1}{2} C_{pmax} \\rho A v^{3}$$\n",
    ", where $C_{pmax}$ = Betz limit (0.59), $\\rho$ = air density, $A$= swept area of blades, and $v$= wind speed\n",
    "\n",
    "The power production of a wind turbine (WT) is affected by many parameters such as wind speed, wind direction, air density (function of temperature, pressure, and humidity) and turbine parameters. \n",
    "\n",
    "WT can't operate at Betz limit. In real world limit is well below 0.59,\n",
    "values of 0.35-0.45 are common even in the best WTs.\n",
    "\n",
    "---\n",
    "\n",
    "So, the `available Power Output` of a WT can be expressed by the following equation:\n",
    "$$P=\\frac{1}{2} C_{p} \\rho A v^{3}$$\n",
    ", where $C_{p}$ is the WT power efficiency, commonly expressed as $\\eta$\n",
    "\n",
    "References:\n",
    "- [Wind Turbine Power Calculation, The Royal Academy of Engineering](https://www.raeng.org.uk/publications/other/23-wind-turbine) <br>\n",
    "- [How Wind Turbines Work, Energy and the Environment, Penn State](https://www.e-education.psu.edu/earth104/node/923)"
   ]
  },
  {
   "cell_type": "markdown",
   "id": "b946c566",
   "metadata": {},
   "source": [
    "###  WT Power Curve\n",
    "---\n",
    "Wind turbines have a minimum wind speed that differs depending on the size but is typically about 4-5 m/s (about 15 km/h) and maximum wind speed above which they shut down to avoid damage, usually around 20-25 m/s (~80 km/h).\n",
    "\n",
    "A typical power curve of a pitch regulated wind turbine is shown in the figure below.\n",
    "- \"In the **first region** when the wind speed is less than a **threshold minimum, known as the cut-in speed,** the power output is zero. \n",
    "- In the **second region** between the cut-in and the rated speed, there is a rapid growth of power produced. \n",
    "- In the **third region**, a constant output (rated) is produced until the cut-off speed is attained. - Beyond the cut-off speed (region 4) the turbine is taken out of operation to protect its components from high winds; hence it produces zero power in this region.\" (Gupta, 2016)"
   ]
  },
  {
   "attachments": {},
   "cell_type": "markdown",
   "id": "f73d60ba",
   "metadata": {},
   "source": [
    "# add image of WT power curve"
   ]
  },
  {
   "cell_type": "markdown",
   "id": "60b92f0b",
   "metadata": {},
   "source": [
    "<b>Calculations<b>"
   ]
  },
  {
   "cell_type": "code",
   "execution_count": null,
   "id": "9b5712d5",
   "metadata": {},
   "outputs": [],
   "source": [
    "## WT parameters\n",
    "turbine_model ='GEV MP R 32m 275 kW'\n",
    "l_rotor = \n",
    "v_cut_in = \n",
    "v_r = \n",
    "v_cut_off = \n",
    "p_max =  #in kW\n",
    "\n",
    "air_density = 1.1849 # in kg/m3, https://www.gribble.org/cycling/air_density.html\n",
    "c_p_max = 0.59"
   ]
  },
  {
   "cell_type": "markdown",
   "id": "f3c23f07",
   "metadata": {},
   "source": [
    "First we need to estimate $C_p$, by estimating the theoretical maximum power. To do so, we can use the following equation:\n",
    "\n",
    "$$C_{p}= \\frac{P_{max}}{P_{max(theor)}} C_{pmax} $$\n"
   ]
  },
  {
   "cell_type": "code",
   "execution_count": null,
   "id": "46fbf92c",
   "metadata": {},
   "outputs": [],
   "source": [
    "blades_area = math.pi * (l_rotor**2)\n",
    "\n",
    "#p_out_theo = 0.5* c_p_max * air_density * blades_area * (v_r**3)\n",
    "p_out_theo_kw = p_out_theo/1000\n",
    "print (\"WT Maximum Power Output [theoretical] %.3f kW\" % (p_out_theo_kw))"
   ]
  },
  {
   "cell_type": "code",
   "execution_count": null,
   "id": "0d38d0ff",
   "metadata": {},
   "outputs": [],
   "source": [
    "c_p = (p_max / p_out_theo_kw)* c_p_max\n",
    "\n",
    "print (\"WT power efficiency: %.3f\" % (c_p))"
   ]
  },
  {
   "cell_type": "code",
   "execution_count": null,
   "id": "c5abcb9a",
   "metadata": {},
   "outputs": [],
   "source": [
    "p_out_avg  = c_p * air_density * blades_area * (avg_wind_speed**3)\n",
    "energy_gen_year  = (p_out_avg * n_sample) /1000000\n",
    "\n",
    "print (\"WT Annual Energy Production: %.3f MWh\" % energy_gen_year)"
   ]
  },
  {
   "cell_type": "markdown",
   "id": "b90e1b80",
   "metadata": {},
   "source": [
    "Finally, we estimate the Capacity Factor (CF) of the WT: <br>\n",
    "\n",
    "---\n",
    "\n",
    "   **CF = Annual Energy Generated / (Nominal Power * Time Period)**"
   ]
  },
  {
   "cell_type": "code",
   "execution_count": null,
   "id": "5600beec",
   "metadata": {},
   "outputs": [],
   "source": [
    "cf = (energy_gen_year*1000) / (p_max*n_sample) # in Energy in MW, p_max in kWh\n",
    "\n",
    "print (\"Capacity Factor: %.3f\" % (cf))"
   ]
  },
  {
   "cell_type": "markdown",
   "id": "b6ee3e3e",
   "metadata": {},
   "source": [
    "### Question(s):\n",
    "4. What are the limitations of calculating WT Annual production by using the annual average wind speed?"
   ]
  },
  {
   "cell_type": "code",
   "execution_count": null,
   "id": "3b4211e9",
   "metadata": {},
   "outputs": [],
   "source": [
    "#Save results in dataframe\n",
    "df_results = pd.DataFrame()\n",
    "\n",
    "results = {'method':'WT Power General Equation','min_wind_speed': min_wind_speed, \n",
    "           'avg_wind_speed': avg_wind_speed, 'max_wind_speed': max_wind_speed,\n",
    "           'std_wind_speed': std_wind_speed, 'median_wind_dir': med_wind_dir, \n",
    "           'annual_generation': energy_gen_year,'capacity_factor':cf}\n",
    "\n",
    "df_results = df_results.append(results, ignore_index=True)\n",
    "df_results.T"
   ]
  },
  {
   "cell_type": "markdown",
   "id": "7a60c23e",
   "metadata": {},
   "source": [
    "### 2.2 Using WT Power Curve"
   ]
  },
  {
   "cell_type": "code",
   "execution_count": null,
   "id": "88528a65",
   "metadata": {},
   "outputs": [],
   "source": [
    "#Read power curve of turbine \n",
    "df_wt_curve = pd.read_csv('./inputs/gev_275kw_32m_power_cuve.csv', index_col = False,)\n",
    "df_wt_curve.head(n=10)"
   ]
  },
  {
   "cell_type": "code",
   "execution_count": null,
   "id": "2566422a",
   "metadata": {},
   "outputs": [],
   "source": [
    "fig, ax = plt.subplots(figsize=(10,6))\n",
    "plt.plot(df_wt_curve.wind_speed, df_wt_curve.power_out, marker = 'o', markerfacecolor = 'r')\n",
    "plt.grid(True)\n",
    "plt.title(\"Turbine Power Curve\")\n",
    "#plt.xlim(0, 10)\n",
    "#plt.ylim(2.5, 3.5)\n",
    "plt.xlabel(\"Wind Speed [m/s]\")\n",
    "plt.ylabel(\"Turbine Power [KW]\")\n",
    "plt.savefig(\"./outputs/wt_power_curve_%s.png\" % turbine_model, transparent=True)\n",
    "plt.show()"
   ]
  },
  {
   "cell_type": "markdown",
   "id": "d38e8bb1",
   "metadata": {},
   "source": [
    "### How Wind Speed and Wind Direction looks when Wind speeds below cut_in and above cut_off are removed?"
   ]
  },
  {
   "cell_type": "code",
   "execution_count": null,
   "id": "575bc055",
   "metadata": {},
   "outputs": [],
   "source": [
    "# create mask, kind of filter\n",
    "speed_mask = (df_wind['Wind_speed'] > v_cut_in) & (df_wind['Wind_speed'] <= v_cut_off)\n",
    "\n",
    "p = sns.jointplot(data=df_wind.loc[speed_mask], x=\"Wind_speed\", y=\"Wind_dir\", kind ='hist', height=10)\n",
    "p.fig.suptitle(\"Scatter Plot with Histograms for Wind Speed and Direction\\n Wind Speeds > Cut in speed (%s) \\n[height= %im, lon=%.2f, lat=%.2f]\" \n",
    "               % (turbine_model, height, lon, lat), fontsize=18)\n",
    "p.set_axis_labels('Wind Speed [m/s]', 'Wind Direction [Azimuth Degrees]', fontsize=12)\n",
    "p.ax_marg_x.set_xlim(0, 10)\n",
    "p.ax_joint.collections[0].set_alpha(0.6)\n",
    "p.fig.tight_layout()\n",
    "p.fig.subplots_adjust(top=0.9) # Reduce plot size to make room for title\n",
    "\n",
    "#p.savefig(\"./outputs/scatter_hist_wind_dir_nonparam_%i.png\" % height, transparent=True)"
   ]
  },
  {
   "cell_type": "markdown",
   "id": "befefd14",
   "metadata": {},
   "source": [
    "### Descriptive Statistics Keeping only Wind Speeds that are in this range \n",
    "\n",
    "$$ v_{cut\\_off} < v_{wind} > v_{cut\\_in} $$"
   ]
  },
  {
   "cell_type": "code",
   "execution_count": null,
   "id": "15898931",
   "metadata": {},
   "outputs": [],
   "source": [
    "speed_mask = (df_wind['Wind_speed'] > v_cut_in) & (df_wind['Wind_speed'] <= v_cut_off)\n",
    "df_wind['Wind_speed_filter'] = df_wind.loc[speed_mask]['Wind_speed']\n",
    "df_wind['Wind_dir_filter'] = df_wind.loc[speed_mask]['Wind_dir']\n",
    "df_wind_stats_wt_curve = df_wind.describe()\n",
    "\n",
    "avg_wind_speed_wt_curve = df_wind_stats_wt_curve.Wind_speed_filter['mean']\n",
    "std_wind_speed_wt_curve = df_wind_stats_wt_curve.Wind_speed_filter['std']\n",
    "min_wind_speed_wt_curve = df_wind_stats_wt_curve.Wind_speed_filter['min']\n",
    "med_wind_dir_wt_curve =df_wind_stats_wt_curve.Wind_dir_filter['50%']\n",
    "max_wind_speed_wt_curve = df_wind_stats_wt_curve.Wind_speed_filter['max']\n",
    "\n",
    "df_wind_stats_wt_curve"
   ]
  },
  {
   "cell_type": "markdown",
   "id": "be99aff7",
   "metadata": {},
   "source": [
    "### IEC61400 Standard\n",
    "\n",
    "IEC61400 standard\n",
    "According to the IEC61400 standard, wind speeds need to be divided in bins of  0.5m/s. \n",
    ">**Note: We're not obtaining the Turbine Power Curve, this is a Pseudo-procedure based on this step from the Standard**"
   ]
  },
  {
   "cell_type": "code",
   "execution_count": null,
   "id": "62a03a52",
   "metadata": {},
   "outputs": [],
   "source": [
    "# create bins\n",
    "bins_list = np.arange(-0.5, 25.5, 0.5)\n",
    "\n",
    "bins_list"
   ]
  },
  {
   "cell_type": "code",
   "execution_count": null,
   "id": "f954f17d",
   "metadata": {},
   "outputs": [],
   "source": [
    "fig, ax = plt.subplots(figsize=(12,6))\n",
    "ax = plt.hist(df_wind['Wind_speed'], bins = bins_list, alpha=0.6)\n",
    "plt.xlim(-1, 11)\n",
    "plt.grid(True)\n",
    "plt.title(\"Histogram of Wind Speeds, bins=0.5m/s [height= %im, lon=%.2f, lat=%.2f]\" % (height, lon, lat))\n",
    "plt.xlabel(\"Wind Speed [m/s]\")\n",
    "plt.ylabel(\"Frequency\")\n",
    "plt.savefig(\"./outputs/hist_wind_speed_bins_%i.png\" % height, transparent=True)\n",
    "plt.show()"
   ]
  },
  {
   "cell_type": "code",
   "execution_count": null,
   "id": "e69670fa",
   "metadata": {},
   "outputs": [],
   "source": [
    "# What is the frequency in each bin\n",
    "print(ax[0])\n",
    "print(ax[1])"
   ]
  },
  {
   "cell_type": "code",
   "execution_count": null,
   "id": "1bd7db7d",
   "metadata": {},
   "outputs": [],
   "source": [
    "df_wt_curve['n_hours'] = ax[0]\n",
    "df_wt_curve['energy_gen'] = df_wt_curve['n_hours'] * df_wt_curve.power_out\n",
    "energy_gen_year_wt_curve  = sum(df_wt_curve['energy_gen'])/1000 # to get value in MW\n",
    "\n",
    "print (\"WT Annual Energy Production: %.3f MWh\" % (energy_gen_year_wt_curve))"
   ]
  },
  {
   "cell_type": "code",
   "execution_count": null,
   "id": "86bdf677",
   "metadata": {},
   "outputs": [],
   "source": [
    "cf_wt_curve = (energy_gen_year_wt_curve*1000) / (p_max*n_sample) # energy in MW, power in kWh\n",
    "\n",
    "print (\"Capacity Factor: %.3f\" % (cf_wt_curve))"
   ]
  },
  {
   "cell_type": "markdown",
   "id": "76a97f13",
   "metadata": {},
   "source": [
    "**Save results in dataframe**"
   ]
  },
  {
   "cell_type": "code",
   "execution_count": null,
   "id": "4feb8b72",
   "metadata": {},
   "outputs": [],
   "source": [
    "results_wt_curve = {'method':'Wind Power Curve','min_wind_speed': min_wind_speed_wt_curve, \n",
    "           'avg_wind_speed': avg_wind_speed_wt_curve, 'max_wind_speed': max_wind_speed_wt_curve,\n",
    "           'std_wind_speed': std_wind_speed_wt_curve, 'median_wind_dir': med_wind_dir_wt_curve, \n",
    "           'annual_generation': energy_gen_year_wt_curve,'capacity_factor':cf_wt_curve}\n",
    "\n",
    "df_results = df_results.append(results_wt_curve, ignore_index=True)\n",
    "df_results.T"
   ]
  },
  {
   "cell_type": "markdown",
   "id": "548283e9",
   "metadata": {},
   "source": [
    "### 2.3 Using a Parametric Approach with the Power Curve \n",
    "\n",
    "The power delivered by a WT can be expressed as: \n",
    "\n",
    "$$ P =\n",
    "  \\begin{cases}\n",
    "    0       & \\quad v < v_c, v > v_f \\\\\n",
    "    q(v)  & \\quad v_c \\leq v < v_r \\\\\n",
    "    P_r & \\quad v_r \\leq v \\leq v_f\n",
    "  \\end{cases}\n",
    "$$\n",
    "\n",
    "\n",
    "\n",
    "\n",
    "\n",
    "The relationship between power output and wind speed of a WT between cut-in and rated speed is nonlinear (region 2). The relation  can be approximated by various functions using polynomial and other than polynomial expressions. \n"
   ]
  },
  {
   "attachments": {},
   "cell_type": "markdown",
   "id": "b0e6f3a9",
   "metadata": {},
   "source": [
    "**Equations for Different Approximations of Power Curve**\n",
    "\n",
    "## add image of wind power curves approximation"
   ]
  },
  {
   "cell_type": "markdown",
   "id": "eae47cbe",
   "metadata": {},
   "source": [
    "### Selecting a Cubic Function"
   ]
  },
  {
   "cell_type": "code",
   "execution_count": null,
   "id": "2500eacd",
   "metadata": {},
   "outputs": [],
   "source": [
    "#%whos"
   ]
  },
  {
   "cell_type": "markdown",
   "id": "5e3a3f46",
   "metadata": {},
   "source": [
    "**Defining cubic funtion**"
   ]
  },
  {
   "cell_type": "code",
   "execution_count": null,
   "id": "f994c5ed",
   "metadata": {},
   "outputs": [],
   "source": [
    "def func_wt_power_cubic(v, p_r, v_c=4, v_r= 12,  v_f=25):\n",
    "    p_out = 0\n",
    "    if (v >= v_c and v < v_r):\n",
    "        a = p_r/(v_r**3-v_c**3)\n",
    "        b = (v_r**3)/(v_r**3-v_c**3)\n",
    "        p_out = (a*v**3)-(b*p_r) +p_r\n",
    "    elif (v >= v_r and v <= v_f):\n",
    "        p_out = p_r\n",
    "    return p_out\n",
    "\n",
    "print(func_wt_power_cubic(11, p_max))"
   ]
  },
  {
   "cell_type": "code",
   "execution_count": null,
   "id": "a198dd06",
   "metadata": {},
   "outputs": [],
   "source": [
    "# create an array of wind speed values from 0 to 25\n",
    "v_array = np.arange(0, 25, 0.5)\n",
    "\n",
    "#call quadratic function\n",
    "q_v = [func_wt_power_cubic(v, p_max, v_cut_in, v_r, v_cut_off ) for v in v_array]\n",
    "\n",
    "#q_v= for x in v func_quad(x.Wind_speed, p_max, v_cut_in, v_r, v_cut_off)\n",
    "fig, ax = plt.subplots(figsize=(10,6))\n",
    "plt.plot(v_array, q_v, label= \"Power estimation quadratic func\")\n",
    "plt.plot(df_wt_curve.wind_speed, df_wt_curve.power_out, marker = 'o', markerfacecolor = 'r', \n",
    "         label= 'WT power output')\n",
    "plt.grid(True)\n",
    "plt.title(\"Turbine Power Curve vs Power Output - Cubic Function Approximation\")\n",
    "#plt.xlim(0, 10)\n",
    "#plt.ylim(2.5, 3.5)\n",
    "plt.xlabel(\"Wind Speed [m/s]\")\n",
    "plt.ylabel(\"Turbine Power [KW]\")\n",
    "plt.legend()\n",
    "#plt.savefig(\"./outputs/wt_power_curve_cubic_approx_%s.png\" % turbine_model, transparent=True)\n",
    "plt.show()"
   ]
  },
  {
   "cell_type": "markdown",
   "id": "d8d0bdaa",
   "metadata": {},
   "source": [
    "***Estimate power output using original dataframe***"
   ]
  },
  {
   "cell_type": "code",
   "execution_count": null,
   "id": "9d098532",
   "metadata": {},
   "outputs": [],
   "source": [
    "df_wind['P_out_cubic'] = df_wind.apply(lambda x: func_wt_power_cubic(x.Wind_speed, p_max, v_cut_in, v_r, v_cut_off), axis=1)"
   ]
  },
  {
   "cell_type": "code",
   "execution_count": null,
   "id": "a2ce18c4",
   "metadata": {},
   "outputs": [],
   "source": [
    "df_wind_stats_cubic_func = df_wind.describe()\n",
    "\n",
    "avg_wind_speed_cubic_func = df_wind_stats_cubic_func.Wind_speed_filter['mean']\n",
    "std_wind_speed_cubic_func = df_wind_stats_cubic_func.Wind_speed_filter['std']\n",
    "min_wind_speed_cubic_func = df_wind_stats_cubic_func.Wind_speed_filter['min']\n",
    "med_wind_dir_cubic_func =df_wind_stats_cubic_func.Wind_dir_filter['50%']\n",
    "max_wind_speed_wt_cubic_func = df_wind_stats_wt_curve.Wind_speed_filter['max']"
   ]
  },
  {
   "cell_type": "code",
   "execution_count": null,
   "id": "2be2cf67",
   "metadata": {},
   "outputs": [],
   "source": [
    "energy_gen_year_cubic_func = sum(df_wind['P_out_cubic'])/1000  # to get value in MW\n",
    "\n",
    "print (\"WT Annual Energy Production: %.3f MWh\" % (energy_gen_year_cubic_func))"
   ]
  },
  {
   "cell_type": "code",
   "execution_count": null,
   "id": "2d9f8d1a",
   "metadata": {},
   "outputs": [],
   "source": [
    "energy_gen_year_cubic_func = sum(df_wind['P_out_cubic'])/1000  # to get value in MW\n",
    "\n",
    "print (\"WT Annual Energy Production: %.3f MWh\" % (energy_gen_year_cubic_func))"
   ]
  },
  {
   "cell_type": "code",
   "execution_count": null,
   "id": "412fd021",
   "metadata": {},
   "outputs": [],
   "source": [
    "cf_cubic_func = (energy_gen_year_cubic_func*1000) / (p_max*n_sample) # energy in MW, power in kWh\n",
    "\n",
    "print (\"Capacity Factor: %.3f\" % (cf_cubic_func))"
   ]
  },
  {
   "cell_type": "code",
   "execution_count": null,
   "id": "c48b1b5c",
   "metadata": {},
   "outputs": [],
   "source": [
    "results_cubic_func = {'method':'WT Power Curve- Cubic Eq. Approx.','min_wind_speed': min_wind_speed_cubic_func, \n",
    "           'avg_wind_speed': avg_wind_speed_cubic_func, 'max_wind_speed': max_wind_speed_wt_curve,\n",
    "           'std_wind_speed': std_wind_speed_cubic_func, 'median_wind_dir': med_wind_dir_cubic_func, \n",
    "           'annual_generation': energy_gen_year_cubic_func,'capacity_factor':cf_cubic_func}\n",
    "\n",
    "df_results = df_results.append(results_cubic_func, ignore_index=True)\n",
    "df_results.T"
   ]
  },
  {
   "cell_type": "code",
   "execution_count": null,
   "id": "f67733b0",
   "metadata": {},
   "outputs": [],
   "source": [
    "#Save results in CSV file\n",
    "df_results['year'] =  year\n",
    "df_results['height'] =  height\n",
    "df_results.to_csv('./outputs/wt_energy_gen_results_%i_%i.csv' % (year, height))"
   ]
  },
  {
   "cell_type": "code",
   "execution_count": null,
   "id": "f1aba7e9",
   "metadata": {},
   "outputs": [],
   "source": [
    "#Save wind dataframe with power out (only parametric results) in CSV file\n",
    "df_wind.to_csv('./outputs/df_wind_power_%i_%i.csv' % (year, height))"
   ]
  },
  {
   "cell_type": "markdown",
   "id": "1aec9a2d",
   "metadata": {},
   "source": [
    "### Activity: Quadratic Function\n",
    "\n",
    "---\n",
    "\n",
    "1. Approximate the WT Power Generation Curve using a quadratic function\n",
    "2. Estimate the Annual Energy Generation using the quadratic function from step 1.\n",
    "3. Which method would you select to estimate the WT energy generation? Why?"
   ]
  },
  {
   "cell_type": "code",
   "execution_count": null,
   "id": "8f5722df",
   "metadata": {},
   "outputs": [],
   "source": [
    "# defining quadratic function\n",
    "def func_wt_power_quad(v, p_r, v_c=4, v_r= 12,  v_f=25):\n",
    "\n",
    "    \n",
    "    return p_out\n",
    "\n",
    "print(func_wt_power_quad(11, p_max))"
   ]
  },
  {
   "cell_type": "code",
   "execution_count": null,
   "id": "0da3b41a",
   "metadata": {},
   "outputs": [],
   "source": [
    "# create an array of wind speed values from 0 to 25\n",
    "v_array = np.arange(0, 25, 0.5)\n",
    "\n",
    "#call quadratic function\n",
    "\n",
    "#q_v= for x in v func_quad(x.Wind_speed, p_max, v_cut_in, v_r, v_cut_off)\n",
    "fig, ax = plt.subplots(figsize=(10,6))\n",
    "plt.plot(v_array, q_v, label= \"Power estimation quadratic func\")\n",
    "plt.plot(df_wt_curve.wind_speed, df_wt_curve.power_out, marker = 'o', markerfacecolor = 'r', \n",
    "         label= 'WT power output')\n",
    "plt.grid(True)\n",
    "plt.title(\"Turbine Power Curve vs Power Output - Quadratic function Approximation\")\n",
    "#plt.xlim(0, 10)\n",
    "#plt.ylim(2.5, 3.5)\n",
    "plt.xlabel(\"Wind Speed [m/s]\")\n",
    "plt.ylabel(\"Turbine Power [KW]\")\n",
    "plt.legend()\n",
    "#plt.savefig(\"./outputs/wt_power_curve_quad_approx_%s.png\" % turbine_model, transparent=True)\n",
    "plt.show()\n"
   ]
  },
  {
   "cell_type": "code",
   "execution_count": null,
   "id": "5dfe1ea5",
   "metadata": {},
   "outputs": [],
   "source": [
    "#Estimate annual energy generation\n",
    "df_wind['P_out_quad'] =\n"
   ]
  },
  {
   "cell_type": "code",
   "execution_count": null,
   "id": "3a56997b",
   "metadata": {},
   "outputs": [],
   "source": [
    "##Extra: Show descriptive stats\n"
   ]
  },
  {
   "cell_type": "markdown",
   "id": "345d6963",
   "metadata": {},
   "source": [
    "---\n",
    "## WT, Wind Speed, Wind Direction, and Height Analysis - Activity \n",
    "(in Teams of 5 people):\n",
    "1. Use the client's location or your location and download the following data for the assigned year (2010-2014): \n",
    "- windspeed_60m, windspeed_80m, windspeed_100m, winddirection_60m, winddirection_80m, winddirection_100m.\n",
    "\n",
    "2.  Report the descriptive statistics of the annual values of windspeeds, and power generation using the method you prefer. i.e. average wind speed at 100 meters in year x, power generation  at 100 meters in year x. Use the data to answer the following questions:\n",
    "- Does the average wind speed increases/decreases as the height increases?\n",
    "- Does the variability of the wind speed increases/decreases as the height increases?\n",
    "- Does the median value of the wind direction change as the height increases?\n",
    "- How does the power generation change as the height increases? (i.e. report the increase as a percentage as the height increases 20m or 40m)? Add a histogram plot of the power generation for one of the datasets (60m, 80m or 100m)\n",
    "- How does the annual energy generation and capacity factor change by height? (just report the values in a table or dataframe) and highlight the differences between the maximum and minimum values."
   ]
  }
 ],
 "metadata": {
  "kernelspec": {
   "display_name": "Python 3",
   "language": "python",
   "name": "python3"
  },
  "language_info": {
   "codemirror_mode": {
    "name": "ipython",
    "version": 3
   },
   "file_extension": ".py",
   "mimetype": "text/x-python",
   "name": "python",
   "nbconvert_exporter": "python",
   "pygments_lexer": "ipython3",
   "version": "3.8.8"
  }
 },
 "nbformat": 4,
 "nbformat_minor": 5
}
