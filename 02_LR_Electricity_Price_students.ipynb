{
 "cells": [
  {
   "cell_type": "markdown",
   "id": "8d9b9626",
   "metadata": {},
   "source": [
    "#  Electricity Price Prediction Using Linear Regression\n",
    "By Mauricio Hernandez"
   ]
  },
  {
   "cell_type": "markdown",
   "id": "d95c0962",
   "metadata": {},
   "source": [
    "## Goal(s):\n",
    "- Learn to calculate the linear regression coefficients manually\n",
    "- Use sklearn tools to make some predictions on the future prices of electricity"
   ]
  },
  {
   "cell_type": "markdown",
   "id": "a5eb0299",
   "metadata": {},
   "source": [
    "What is Linear Regression\n",
    "---\n",
    "Linear Regression is a machine learning is a supervised learning algorithm that performs regression task. Machile learning models based on linear regression predict a `target` value (dependent variable)  based on `features` (independent variables).\n",
    "\n",
    "See more info at: \n",
    "https://scikit-learn.org/stable/modules/generated/sklearn.linear_model.LinearRegression.html <br>\n",
    "https://towardsdatascience.com/introduction-to-machine-learning-algorithms-linear-regression-14c4e325882a\n"
   ]
  },
  {
   "cell_type": "code",
   "execution_count": 1,
   "id": "22f9e147",
   "metadata": {},
   "outputs": [],
   "source": [
    "#Import libraries\n",
    "import matplotlib.pyplot as plt\n",
    "import numpy as np\n",
    "import pandas as pd\n",
    "from datetime import datetime"
   ]
  },
  {
   "cell_type": "markdown",
   "id": "080d14b3",
   "metadata": {},
   "source": [
    "*Read CSV file with information about consumption*"
   ]
  },
  {
   "cell_type": "code",
   "execution_count": 2,
   "id": "edcab116",
   "metadata": {},
   "outputs": [
    {
     "data": {
      "text/html": [
       "<div>\n",
       "<style scoped>\n",
       "    .dataframe tbody tr th:only-of-type {\n",
       "        vertical-align: middle;\n",
       "    }\n",
       "\n",
       "    .dataframe tbody tr th {\n",
       "        vertical-align: top;\n",
       "    }\n",
       "\n",
       "    .dataframe thead th {\n",
       "        text-align: right;\n",
       "    }\n",
       "</style>\n",
       "<table border=\"1\" class=\"dataframe\">\n",
       "  <thead>\n",
       "    <tr style=\"text-align: right;\">\n",
       "      <th></th>\n",
       "      <th>service_number</th>\n",
       "      <th>state</th>\n",
       "      <th>municipality</th>\n",
       "      <th>longitude</th>\n",
       "      <th>latitude</th>\n",
       "      <th>household_size</th>\n",
       "      <th>tarif</th>\n",
       "      <th>initial_date</th>\n",
       "      <th>end_date</th>\n",
       "      <th>total_bill</th>\n",
       "      <th>...</th>\n",
       "      <th>consumption_kwh</th>\n",
       "      <th>tax_iva</th>\n",
       "      <th>cost_supply</th>\n",
       "      <th>cost_distribution</th>\n",
       "      <th>cost_transmission</th>\n",
       "      <th>cost_cenace</th>\n",
       "      <th>cost_energy</th>\n",
       "      <th>cost_capacity</th>\n",
       "      <th>cost_market</th>\n",
       "      <th>cost_dap</th>\n",
       "    </tr>\n",
       "  </thead>\n",
       "  <tbody>\n",
       "    <tr>\n",
       "      <th>0</th>\n",
       "      <td>77211104603</td>\n",
       "      <td>Querétaro</td>\n",
       "      <td>El Marqués</td>\n",
       "      <td>-100.318332</td>\n",
       "      <td>20.682081</td>\n",
       "      <td>5</td>\n",
       "      <td>1</td>\n",
       "      <td>2021-12-22</td>\n",
       "      <td>2021-02-21</td>\n",
       "      <td>645.0</td>\n",
       "      <td>...</td>\n",
       "      <td>108.88</td>\n",
       "      <td>13.93</td>\n",
       "      <td>56.66</td>\n",
       "      <td>114.60</td>\n",
       "      <td>16.93</td>\n",
       "      <td>0.82</td>\n",
       "      <td>87.05</td>\n",
       "      <td>43.37</td>\n",
       "      <td>0.57</td>\n",
       "      <td>0</td>\n",
       "    </tr>\n",
       "    <tr>\n",
       "      <th>1</th>\n",
       "      <td>77211104603</td>\n",
       "      <td>Querétaro</td>\n",
       "      <td>El Marqués</td>\n",
       "      <td>-100.318332</td>\n",
       "      <td>20.682081</td>\n",
       "      <td>5</td>\n",
       "      <td>1</td>\n",
       "      <td>2021-02-21</td>\n",
       "      <td>2021-04-18</td>\n",
       "      <td>582.0</td>\n",
       "      <td>...</td>\n",
       "      <td>98.25</td>\n",
       "      <td>12.57</td>\n",
       "      <td>51.13</td>\n",
       "      <td>103.40</td>\n",
       "      <td>15.28</td>\n",
       "      <td>0.74</td>\n",
       "      <td>78.55</td>\n",
       "      <td>39.13</td>\n",
       "      <td>0.51</td>\n",
       "      <td>0</td>\n",
       "    </tr>\n",
       "    <tr>\n",
       "      <th>2</th>\n",
       "      <td>77211104603</td>\n",
       "      <td>Querétaro</td>\n",
       "      <td>El Marqués</td>\n",
       "      <td>-100.318332</td>\n",
       "      <td>20.682081</td>\n",
       "      <td>5</td>\n",
       "      <td>1</td>\n",
       "      <td>2021-04-18</td>\n",
       "      <td>2021-06-18</td>\n",
       "      <td>532.0</td>\n",
       "      <td>...</td>\n",
       "      <td>89.81</td>\n",
       "      <td>11.49</td>\n",
       "      <td>46.73</td>\n",
       "      <td>94.52</td>\n",
       "      <td>13.97</td>\n",
       "      <td>0.68</td>\n",
       "      <td>71.80</td>\n",
       "      <td>35.77</td>\n",
       "      <td>0.47</td>\n",
       "      <td>0</td>\n",
       "    </tr>\n",
       "    <tr>\n",
       "      <th>3</th>\n",
       "      <td>77211104603</td>\n",
       "      <td>Querétaro</td>\n",
       "      <td>El Marqués</td>\n",
       "      <td>-100.318332</td>\n",
       "      <td>20.682081</td>\n",
       "      <td>5</td>\n",
       "      <td>1</td>\n",
       "      <td>2021-06-18</td>\n",
       "      <td>2021-08-19</td>\n",
       "      <td>602.0</td>\n",
       "      <td>...</td>\n",
       "      <td>101.62</td>\n",
       "      <td>13.00</td>\n",
       "      <td>52.88</td>\n",
       "      <td>106.96</td>\n",
       "      <td>15.80</td>\n",
       "      <td>0.76</td>\n",
       "      <td>81.25</td>\n",
       "      <td>40.48</td>\n",
       "      <td>0.53</td>\n",
       "      <td>0</td>\n",
       "    </tr>\n",
       "    <tr>\n",
       "      <th>4</th>\n",
       "      <td>77211104603</td>\n",
       "      <td>Querétaro</td>\n",
       "      <td>El Marqués</td>\n",
       "      <td>-100.318332</td>\n",
       "      <td>20.682081</td>\n",
       "      <td>5</td>\n",
       "      <td>1</td>\n",
       "      <td>2021-08-19</td>\n",
       "      <td>2021-10-18</td>\n",
       "      <td>545.0</td>\n",
       "      <td>...</td>\n",
       "      <td>92.00</td>\n",
       "      <td>11.77</td>\n",
       "      <td>49.88</td>\n",
       "      <td>96.83</td>\n",
       "      <td>14.31</td>\n",
       "      <td>0.69</td>\n",
       "      <td>73.56</td>\n",
       "      <td>36.64</td>\n",
       "      <td>0.48</td>\n",
       "      <td>0</td>\n",
       "    </tr>\n",
       "    <tr>\n",
       "      <th>5</th>\n",
       "      <td>77211104603</td>\n",
       "      <td>Querétaro</td>\n",
       "      <td>El Marqués</td>\n",
       "      <td>-100.318332</td>\n",
       "      <td>20.682081</td>\n",
       "      <td>5</td>\n",
       "      <td>1</td>\n",
       "      <td>2021-10-18</td>\n",
       "      <td>2021-12-23</td>\n",
       "      <td>622.0</td>\n",
       "      <td>...</td>\n",
       "      <td>105.00</td>\n",
       "      <td>13.43</td>\n",
       "      <td>55.64</td>\n",
       "      <td>111.51</td>\n",
       "      <td>16.33</td>\n",
       "      <td>0.79</td>\n",
       "      <td>83.95</td>\n",
       "      <td>41.82</td>\n",
       "      <td>0.55</td>\n",
       "      <td>0</td>\n",
       "    </tr>\n",
       "  </tbody>\n",
       "</table>\n",
       "<p>6 rows × 21 columns</p>\n",
       "</div>"
      ],
      "text/plain": [
       "   service_number      state municipality   longitude   latitude  \\\n",
       "0     77211104603  Querétaro   El Marqués -100.318332  20.682081   \n",
       "1     77211104603  Querétaro   El Marqués -100.318332  20.682081   \n",
       "2     77211104603  Querétaro   El Marqués -100.318332  20.682081   \n",
       "3     77211104603  Querétaro   El Marqués -100.318332  20.682081   \n",
       "4     77211104603  Querétaro   El Marqués -100.318332  20.682081   \n",
       "5     77211104603  Querétaro   El Marqués -100.318332  20.682081   \n",
       "\n",
       "   household_size  tarif initial_date   end_date  total_bill  ...  \\\n",
       "0               5      1   2021-12-22 2021-02-21       645.0  ...   \n",
       "1               5      1   2021-02-21 2021-04-18       582.0  ...   \n",
       "2               5      1   2021-04-18 2021-06-18       532.0  ...   \n",
       "3               5      1   2021-06-18 2021-08-19       602.0  ...   \n",
       "4               5      1   2021-08-19 2021-10-18       545.0  ...   \n",
       "5               5      1   2021-10-18 2021-12-23       622.0  ...   \n",
       "\n",
       "   consumption_kwh  tax_iva  cost_supply  cost_distribution  \\\n",
       "0           108.88    13.93        56.66             114.60   \n",
       "1            98.25    12.57        51.13             103.40   \n",
       "2            89.81    11.49        46.73              94.52   \n",
       "3           101.62    13.00        52.88             106.96   \n",
       "4            92.00    11.77        49.88              96.83   \n",
       "5           105.00    13.43        55.64             111.51   \n",
       "\n",
       "   cost_transmission  cost_cenace  cost_energy  cost_capacity  cost_market  \\\n",
       "0              16.93         0.82        87.05          43.37         0.57   \n",
       "1              15.28         0.74        78.55          39.13         0.51   \n",
       "2              13.97         0.68        71.80          35.77         0.47   \n",
       "3              15.80         0.76        81.25          40.48         0.53   \n",
       "4              14.31         0.69        73.56          36.64         0.48   \n",
       "5              16.33         0.79        83.95          41.82         0.55   \n",
       "\n",
       "   cost_dap  \n",
       "0         0  \n",
       "1         0  \n",
       "2         0  \n",
       "3         0  \n",
       "4         0  \n",
       "5         0  \n",
       "\n",
       "[6 rows x 21 columns]"
      ]
     },
     "execution_count": 2,
     "metadata": {},
     "output_type": "execute_result"
    }
   ],
   "source": [
    "dateparse = lambda x: datetime.strptime(x, '%m/%d/%Y')\n",
    "\n",
    "df_bill = pd.read_csv('./inputs/site01_bill.csv', parse_dates=['initial_date', 'end_date'], date_parser=dateparse, index_col = False)\n",
    "df_bill"
   ]
  },
  {
   "cell_type": "code",
   "execution_count": 3,
   "id": "6ad9f106",
   "metadata": {},
   "outputs": [
    {
     "data": {
      "text/plain": [
       "0   -304\n",
       "1     56\n",
       "2     61\n",
       "3     62\n",
       "4     60\n",
       "5     66\n",
       "Name: days, dtype: int64"
      ]
     },
     "execution_count": 3,
     "metadata": {},
     "output_type": "execute_result"
    }
   ],
   "source": [
    "#Adding number of days included in each bill, just sanity check\n",
    "\n",
    "#df_bill['days'] = df_bill.apply(lambda x: (x['end_date'] - x['initial_date']).days, axis=1)\n",
    "#df_bill.days"
   ]
  },
  {
   "cell_type": "code",
   "execution_count": 4,
   "id": "cd0c690b",
   "metadata": {},
   "outputs": [
    {
     "name": "stdout",
     "output_type": "stream",
     "text": [
      "<class 'pandas.core.frame.DataFrame'>\n",
      "RangeIndex: 6 entries, 0 to 5\n",
      "Data columns (total 22 columns):\n",
      " #   Column             Non-Null Count  Dtype         \n",
      "---  ------             --------------  -----         \n",
      " 0   service_number     6 non-null      int64         \n",
      " 1   state              6 non-null      object        \n",
      " 2   municipality       6 non-null      object        \n",
      " 3   longitude          6 non-null      float64       \n",
      " 4   latitude           6 non-null      float64       \n",
      " 5   household_size     6 non-null      int64         \n",
      " 6   tarif              6 non-null      int64         \n",
      " 7   initial_date       6 non-null      datetime64[ns]\n",
      " 8   end_date           6 non-null      datetime64[ns]\n",
      " 9   total_bill         6 non-null      float64       \n",
      " 10  subsidy_bill       6 non-null      float64       \n",
      " 11  consumption_kwh    6 non-null      float64       \n",
      " 12  tax_iva            6 non-null      float64       \n",
      " 13  cost_supply        6 non-null      float64       \n",
      " 14  cost_distribution  6 non-null      float64       \n",
      " 15  cost_transmission  6 non-null      float64       \n",
      " 16  cost_cenace        6 non-null      float64       \n",
      " 17  cost_energy        6 non-null      float64       \n",
      " 18  cost_capacity      6 non-null      float64       \n",
      " 19  cost_market        6 non-null      float64       \n",
      " 20  cost_dap           6 non-null      int64         \n",
      " 21  days               6 non-null      int64         \n",
      "dtypes: datetime64[ns](2), float64(13), int64(5), object(2)\n",
      "memory usage: 1.2+ KB\n"
     ]
    }
   ],
   "source": [
    "#check dataframe info\n"
   ]
  },
  {
   "cell_type": "markdown",
   "id": "de66dfef",
   "metadata": {},
   "source": [
    "*Sorting rows of dataframe in ascending order based on initial date and add bimester* "
   ]
  },
  {
   "cell_type": "code",
   "execution_count": 23,
   "id": "616cb470",
   "metadata": {},
   "outputs": [
    {
     "data": {
      "text/html": [
       "<div>\n",
       "<style scoped>\n",
       "    .dataframe tbody tr th:only-of-type {\n",
       "        vertical-align: middle;\n",
       "    }\n",
       "\n",
       "    .dataframe tbody tr th {\n",
       "        vertical-align: top;\n",
       "    }\n",
       "\n",
       "    .dataframe thead th {\n",
       "        text-align: right;\n",
       "    }\n",
       "</style>\n",
       "<table border=\"1\" class=\"dataframe\">\n",
       "  <thead>\n",
       "    <tr style=\"text-align: right;\">\n",
       "      <th></th>\n",
       "      <th>service_number</th>\n",
       "      <th>state</th>\n",
       "      <th>municipality</th>\n",
       "      <th>longitude</th>\n",
       "      <th>latitude</th>\n",
       "      <th>household_size</th>\n",
       "      <th>tarif</th>\n",
       "      <th>initial_date</th>\n",
       "      <th>end_date</th>\n",
       "      <th>total_bill</th>\n",
       "      <th>...</th>\n",
       "      <th>cost_capacity</th>\n",
       "      <th>cost_market</th>\n",
       "      <th>cost_dap</th>\n",
       "      <th>days</th>\n",
       "      <th>bimester</th>\n",
       "      <th>real_cost</th>\n",
       "      <th>price_per_KWh</th>\n",
       "      <th>x-xavg</th>\n",
       "      <th>y-yavg</th>\n",
       "      <th>sqrt_x-xavg</th>\n",
       "    </tr>\n",
       "  </thead>\n",
       "  <tbody>\n",
       "    <tr>\n",
       "      <th>0</th>\n",
       "      <td>77211104603</td>\n",
       "      <td>Querétaro</td>\n",
       "      <td>El Marqués</td>\n",
       "      <td>-100.318332</td>\n",
       "      <td>20.682081</td>\n",
       "      <td>5</td>\n",
       "      <td>1</td>\n",
       "      <td>2021-02-21</td>\n",
       "      <td>2021-04-18</td>\n",
       "      <td>582.0</td>\n",
       "      <td>...</td>\n",
       "      <td>39.13</td>\n",
       "      <td>0.51</td>\n",
       "      <td>0</td>\n",
       "      <td>56</td>\n",
       "      <td>1</td>\n",
       "      <td>288.74</td>\n",
       "      <td>2.938830</td>\n",
       "      <td>-2.5</td>\n",
       "      <td>-0.006915</td>\n",
       "      <td>6.25</td>\n",
       "    </tr>\n",
       "    <tr>\n",
       "      <th>1</th>\n",
       "      <td>77211104603</td>\n",
       "      <td>Querétaro</td>\n",
       "      <td>El Marqués</td>\n",
       "      <td>-100.318332</td>\n",
       "      <td>20.682081</td>\n",
       "      <td>5</td>\n",
       "      <td>1</td>\n",
       "      <td>2021-04-18</td>\n",
       "      <td>2021-06-18</td>\n",
       "      <td>532.0</td>\n",
       "      <td>...</td>\n",
       "      <td>35.77</td>\n",
       "      <td>0.47</td>\n",
       "      <td>0</td>\n",
       "      <td>61</td>\n",
       "      <td>2</td>\n",
       "      <td>263.94</td>\n",
       "      <td>2.938871</td>\n",
       "      <td>-1.5</td>\n",
       "      <td>-0.006873</td>\n",
       "      <td>2.25</td>\n",
       "    </tr>\n",
       "    <tr>\n",
       "      <th>2</th>\n",
       "      <td>77211104603</td>\n",
       "      <td>Querétaro</td>\n",
       "      <td>El Marqués</td>\n",
       "      <td>-100.318332</td>\n",
       "      <td>20.682081</td>\n",
       "      <td>5</td>\n",
       "      <td>1</td>\n",
       "      <td>2021-06-18</td>\n",
       "      <td>2021-08-19</td>\n",
       "      <td>602.0</td>\n",
       "      <td>...</td>\n",
       "      <td>40.48</td>\n",
       "      <td>0.53</td>\n",
       "      <td>0</td>\n",
       "      <td>62</td>\n",
       "      <td>3</td>\n",
       "      <td>298.66</td>\n",
       "      <td>2.938988</td>\n",
       "      <td>-0.5</td>\n",
       "      <td>-0.006756</td>\n",
       "      <td>0.25</td>\n",
       "    </tr>\n",
       "    <tr>\n",
       "      <th>3</th>\n",
       "      <td>77211104603</td>\n",
       "      <td>Querétaro</td>\n",
       "      <td>El Marqués</td>\n",
       "      <td>-100.318332</td>\n",
       "      <td>20.682081</td>\n",
       "      <td>5</td>\n",
       "      <td>1</td>\n",
       "      <td>2021-08-19</td>\n",
       "      <td>2021-10-18</td>\n",
       "      <td>545.0</td>\n",
       "      <td>...</td>\n",
       "      <td>36.64</td>\n",
       "      <td>0.48</td>\n",
       "      <td>0</td>\n",
       "      <td>60</td>\n",
       "      <td>4</td>\n",
       "      <td>272.39</td>\n",
       "      <td>2.960761</td>\n",
       "      <td>0.5</td>\n",
       "      <td>0.015017</td>\n",
       "      <td>0.25</td>\n",
       "    </tr>\n",
       "    <tr>\n",
       "      <th>4</th>\n",
       "      <td>77211104603</td>\n",
       "      <td>Querétaro</td>\n",
       "      <td>El Marqués</td>\n",
       "      <td>-100.318332</td>\n",
       "      <td>20.682081</td>\n",
       "      <td>5</td>\n",
       "      <td>1</td>\n",
       "      <td>2021-10-18</td>\n",
       "      <td>2021-12-23</td>\n",
       "      <td>622.0</td>\n",
       "      <td>...</td>\n",
       "      <td>41.82</td>\n",
       "      <td>0.55</td>\n",
       "      <td>0</td>\n",
       "      <td>66</td>\n",
       "      <td>5</td>\n",
       "      <td>310.59</td>\n",
       "      <td>2.958000</td>\n",
       "      <td>1.5</td>\n",
       "      <td>0.012256</td>\n",
       "      <td>2.25</td>\n",
       "    </tr>\n",
       "  </tbody>\n",
       "</table>\n",
       "<p>5 rows × 28 columns</p>\n",
       "</div>"
      ],
      "text/plain": [
       "   service_number      state municipality   longitude   latitude  \\\n",
       "0     77211104603  Querétaro   El Marqués -100.318332  20.682081   \n",
       "1     77211104603  Querétaro   El Marqués -100.318332  20.682081   \n",
       "2     77211104603  Querétaro   El Marqués -100.318332  20.682081   \n",
       "3     77211104603  Querétaro   El Marqués -100.318332  20.682081   \n",
       "4     77211104603  Querétaro   El Marqués -100.318332  20.682081   \n",
       "\n",
       "   household_size  tarif initial_date   end_date  total_bill  ...  \\\n",
       "0               5      1   2021-02-21 2021-04-18       582.0  ...   \n",
       "1               5      1   2021-04-18 2021-06-18       532.0  ...   \n",
       "2               5      1   2021-06-18 2021-08-19       602.0  ...   \n",
       "3               5      1   2021-08-19 2021-10-18       545.0  ...   \n",
       "4               5      1   2021-10-18 2021-12-23       622.0  ...   \n",
       "\n",
       "   cost_capacity  cost_market  cost_dap  days  bimester  real_cost  \\\n",
       "0          39.13         0.51         0    56         1     288.74   \n",
       "1          35.77         0.47         0    61         2     263.94   \n",
       "2          40.48         0.53         0    62         3     298.66   \n",
       "3          36.64         0.48         0    60         4     272.39   \n",
       "4          41.82         0.55         0    66         5     310.59   \n",
       "\n",
       "   price_per_KWh  x-xavg    y-yavg  sqrt_x-xavg  \n",
       "0       2.938830    -2.5 -0.006915         6.25  \n",
       "1       2.938871    -1.5 -0.006873         2.25  \n",
       "2       2.938988    -0.5 -0.006756         0.25  \n",
       "3       2.960761     0.5  0.015017         0.25  \n",
       "4       2.958000     1.5  0.012256         2.25  \n",
       "\n",
       "[5 rows x 28 columns]"
      ]
     },
     "execution_count": 23,
     "metadata": {},
     "output_type": "execute_result"
    }
   ],
   "source": [
    "df_bill.sort_values(\"initial_date\", axis = 0, ascending = True, inplace = True)\n",
    "#reset index\n",
    "df_bill = df_bill.reset_index(col_level = 0, drop=True)\n",
    "df_bill['bimester'] = df_bill.index + 1\n",
    "df_bill.head()"
   ]
  },
  {
   "cell_type": "markdown",
   "id": "ed417962",
   "metadata": {},
   "source": [
    "### Descriptive statistics\n"
   ]
  },
  {
   "cell_type": "code",
   "execution_count": null,
   "id": "23f5e4e5",
   "metadata": {},
   "outputs": [],
   "source": []
  },
  {
   "cell_type": "markdown",
   "id": "5b5d5d38",
   "metadata": {},
   "source": [
    "## Electricity Costs Components\n",
    "\n",
    "**Components**\n",
    "1. **Energy**. Cost for the energy consumed. Measured in kWh for all rates and is paid to CFE Generación. In non-residential rates, this cost is broken down into 3 items according to the time of energy consumed.\n",
    "2. **Supply**. Fixed charge independent of energy consumption or user demand. Just for having the connection and the service from  CFE\n",
    "3. **Transmission**. Cost related to the transmission of electrical energy\n",
    "4. **Distribution**. Cost related to the distribution the electrical energy, charged by the subsidiary company CFE Distribucion\n",
    "5. **Capacity**. Cost paid  the power that the subsidiary company CFE Distribución must be able to provide to the user at any time.\n",
    "6. **Market**. Charge for costs related to related services not included in the Wholesale Electricity Market (SCnMEM:).\n",
    "7. **CENACE**. Cost charged by the National Center for Energy Control. Responsible for monitoring the Wholesale Electricity Market  (https://www.cenace.gob.mx/CENACE.aspx)\n",
    "\n",
    "With the exception of supply, all the costs are charged in terms of `$/Kwh`, capacity should be charged in terms of `$/KW`\n"
   ]
  },
  {
   "cell_type": "code",
   "execution_count": null,
   "id": "bcea75a3",
   "metadata": {},
   "outputs": [],
   "source": [
    "## Add image"
   ]
  },
  {
   "cell_type": "markdown",
   "id": "45473e22",
   "metadata": {},
   "source": [
    "**Estimating real cost of electricity**"
   ]
  },
  {
   "cell_type": "code",
   "execution_count": 6,
   "id": "9d71644c",
   "metadata": {},
   "outputs": [
    {
     "name": "stdout",
     "output_type": "stream",
     "text": [
      "Average Bi-monthly cost of electricity 588.00 [$/month] - With Subsidies\n",
      "Average Bi-monthly cost of electricity 292.39 [$/month] - Real Cost\n"
     ]
    }
   ],
   "source": [
    "df_bill['real_cost'] = \n",
    "\n",
    "#average monthly cost of electricity vs real cost of electricity\n",
    "print('Average Bi-monthly cost of electricity %.2f [$/month] - With Subsidies' % df_bill['total_bill'].mean())\n",
    "print('Average Bi-monthly cost of electricity %.2f [$/month] - Real Cost' % df_bill['real_cost'].mean())"
   ]
  },
  {
   "cell_type": "markdown",
   "id": "27fc5321",
   "metadata": {},
   "source": [
    "**Sum of values**"
   ]
  },
  {
   "cell_type": "code",
   "execution_count": 8,
   "id": "71a26c66",
   "metadata": {},
   "outputs": [
    {
     "data": {
      "text/plain": [
       "service_number       4.632666e+11\n",
       "longitude           -6.019100e+02\n",
       "latitude             1.240925e+02\n",
       "household_size       3.000000e+01\n",
       "tarif                6.000000e+00\n",
       "total_bill           3.528000e+03\n",
       "subsidy_bill         1.164750e+03\n",
       "consumption_kwh      5.955600e+02\n",
       "tax_iva              7.619000e+01\n",
       "cost_supply          3.129200e+02\n",
       "cost_distribution    6.278200e+02\n",
       "cost_transmission    9.262000e+01\n",
       "cost_cenace          4.480000e+00\n",
       "cost_energy          4.761600e+02\n",
       "cost_capacity        2.372100e+02\n",
       "cost_market          3.110000e+00\n",
       "cost_dap             0.000000e+00\n",
       "days                 1.000000e+00\n",
       "bimester             2.100000e+01\n",
       "real_cost            1.754320e+03\n",
       "dtype: float64"
      ]
     },
     "execution_count": 8,
     "metadata": {},
     "output_type": "execute_result"
    }
   ],
   "source": [
    "totals = df_bill.sum(numeric_only=True)\n",
    "totals "
   ]
  },
  {
   "cell_type": "markdown",
   "id": "59de7c51",
   "metadata": {},
   "source": [
    "**Percent of each cost component over real cost**"
   ]
  },
  {
   "cell_type": "code",
   "execution_count": 24,
   "id": "6569ed07",
   "metadata": {},
   "outputs": [
    {
     "ename": "SyntaxError",
     "evalue": "invalid syntax (Temp/ipykernel_10616/3625629287.py, line 1)",
     "output_type": "error",
     "traceback": [
      "\u001b[1;36m  File \u001b[1;32m\"C:\\Users\\MMH54-~1\\AppData\\Local\\Temp/ipykernel_10616/3625629287.py\"\u001b[1;36m, line \u001b[1;32m1\u001b[0m\n\u001b[1;33m    totals_perc =\u001b[0m\n\u001b[1;37m                  ^\u001b[0m\n\u001b[1;31mSyntaxError\u001b[0m\u001b[1;31m:\u001b[0m invalid syntax\n"
     ]
    }
   ],
   "source": [
    "totals_perc = \n",
    "totals_perc"
   ]
  },
  {
   "cell_type": "code",
   "execution_count": 10,
   "id": "7dc0e1dd",
   "metadata": {},
   "outputs": [
    {
     "data": {
      "image/png": "[encoded data removed]",
      "text/plain": [
       "<Figure size 720x720 with 1 Axes>"
      ]
     },
     "metadata": {},
     "output_type": "display_data"
    }
   ],
   "source": [
    "x = totals_perc\n",
    "labels = ['supply', 'distribution', 'transmission', 'cenace', 'energy', 'capacity', 'market']\n",
    "colors = ['tab:blue', 'tab:cyan', 'tab:gray', 'tab:orange', 'tab:red', 'y', 'tab:green']\n",
    "explode = [0, 0, 0, 0, 0.2, 0, 0]\n",
    "\n",
    "fig, ax = plt.subplots(figsize=(10,10))\n",
    "ax.pie(x, labels = labels,\n",
    "          colors = colors,\n",
    "          autopct='%.1f%%',\n",
    "          explode = explode,\n",
    "          shadow = True,\n",
    "          startangle = 90)\n",
    "\n",
    "ax.set_title('Percent of Each Component in the Total Cost of Electricity')\n",
    "#save figure\n",
    "#fig.savefig('components_elect_costs.png', dpi=100)\n",
    "\n",
    "plt.show()"
   ]
  },
  {
   "cell_type": "markdown",
   "id": "ee1aca05",
   "metadata": {},
   "source": [
    "## Price of Electricity Trends"
   ]
  },
  {
   "cell_type": "markdown",
   "id": "f6c005ea",
   "metadata": {},
   "source": [
    "**Compute price per KWh**"
   ]
  },
  {
   "cell_type": "code",
   "execution_count": 25,
   "id": "7dd6f3ad",
   "metadata": {
    "scrolled": true
   },
   "outputs": [
    {
     "ename": "SyntaxError",
     "evalue": "invalid syntax (Temp/ipykernel_10616/4183703697.py, line 1)",
     "output_type": "error",
     "traceback": [
      "\u001b[1;36m  File \u001b[1;32m\"C:\\Users\\MMH54-~1\\AppData\\Local\\Temp/ipykernel_10616/4183703697.py\"\u001b[1;36m, line \u001b[1;32m1\u001b[0m\n\u001b[1;33m    df_bill['price_per_KWh'] =\u001b[0m\n\u001b[1;37m                                    ^\u001b[0m\n\u001b[1;31mSyntaxError\u001b[0m\u001b[1;31m:\u001b[0m invalid syntax\n"
     ]
    }
   ],
   "source": [
    "df_bill['price_per_KWh'] =      \n",
    "df_bill[['bimester','price_per_KWh']]"
   ]
  },
  {
   "cell_type": "code",
   "execution_count": 12,
   "id": "e359157f",
   "metadata": {},
   "outputs": [
    {
     "data": {
      "image/png": "[encoded data removed]",
      "text/plain": [
       "<Figure size 576x432 with 1 Axes>"
      ]
     },
     "metadata": {
      "needs_background": "light"
     },
     "output_type": "display_data"
    }
   ],
   "source": [
    "\n",
    "plt.rcParams['figure.figsize'] = (8, 6)\n",
    "\n",
    "plt.plot( ,'b^')\n",
    "\n",
    "plt.grid(True)\n",
    "plt.title(\"Price of KWh per bimester\")\n",
    "plt.xlim(0, 10)\n",
    "plt.ylim(2.5, 3.5)\n",
    "plt.xlabel(\"Bimester\")\n",
    "plt.ylabel(\"$/KWh\")\n",
    "plt.savefig(\"cost_electricity_bimester.png\", transparent=True)\n",
    "plt.show()"
   ]
  },
  {
   "cell_type": "markdown",
   "id": "b8550aaa",
   "metadata": {},
   "source": [
    "## Least Squares"
   ]
  },
  {
   "cell_type": "markdown",
   "id": "4d8c5e26",
   "metadata": {},
   "source": [
    "[![Least Squares](https://www.mathsisfun.com/data/images/least-squares2.svg)](https://www.youtube.com/watch?v=gUdU6BgnJ2c)\n"
   ]
  },
  {
   "cell_type": "markdown",
   "id": "bc286c11",
   "metadata": {},
   "source": [
    "### Linear Regression Coefficients - Manual Calculation"
   ]
  },
  {
   "cell_type": "markdown",
   "id": "bdcbdd8b",
   "metadata": {},
   "source": [
    "$\\hat{y} = \\theta_0 + \\theta_1x $"
   ]
  },
  {
   "cell_type": "markdown",
   "id": "d7c0f90c",
   "metadata": {},
   "source": [
    "Estimate LR coefficients:"
   ]
  },
  {
   "cell_type": "markdown",
   "id": "78cb7f51",
   "metadata": {},
   "source": [
    "$$\\theta_1 = \\frac{\\sum({x-\\overline{x}})(y-\\overline{y} )}{\\sum{(x-\\overline{x})^2}} \\\\\n",
    "\\theta_0 = \\hat{y}-\\theta_1x$$"
   ]
  },
  {
   "cell_type": "code",
   "execution_count": 13,
   "id": "6701b386",
   "metadata": {},
   "outputs": [],
   "source": [
    "df_bill['x-xavg']=(df_bill.bimester -  (df_bill.bimester).mean())\n",
    "df_bill['y-yavg']=(df_bill.price_per_KWh -  (df_bill.price_per_KWh).mean())\n",
    "df_bill['sqrt_x-xavg']=(df_bill['x-xavg'] *df_bill['x-xavg'] )"
   ]
  },
  {
   "cell_type": "code",
   "execution_count": 26,
   "id": "bd35cece",
   "metadata": {},
   "outputs": [
    {
     "ename": "SyntaxError",
     "evalue": "invalid syntax (Temp/ipykernel_10616/3058211670.py, line 1)",
     "output_type": "error",
     "traceback": [
      "\u001b[1;36m  File \u001b[1;32m\"C:\\Users\\MMH54-~1\\AppData\\Local\\Temp/ipykernel_10616/3058211670.py\"\u001b[1;36m, line \u001b[1;32m1\u001b[0m\n\u001b[1;33m    theta_1 =\u001b[0m\n\u001b[1;37m              ^\u001b[0m\n\u001b[1;31mSyntaxError\u001b[0m\u001b[1;31m:\u001b[0m invalid syntax\n"
     ]
    }
   ],
   "source": [
    "theta_1 = \n",
    "theta_1"
   ]
  },
  {
   "cell_type": "code",
   "execution_count": 27,
   "id": "17f662ee",
   "metadata": {},
   "outputs": [
    {
     "ename": "SyntaxError",
     "evalue": "invalid syntax (Temp/ipykernel_10616/687505641.py, line 1)",
     "output_type": "error",
     "traceback": [
      "\u001b[1;36m  File \u001b[1;32m\"C:\\Users\\MMH54-~1\\AppData\\Local\\Temp/ipykernel_10616/687505641.py\"\u001b[1;36m, line \u001b[1;32m1\u001b[0m\n\u001b[1;33m    theta_0 =\u001b[0m\n\u001b[1;37m             ^\u001b[0m\n\u001b[1;31mSyntaxError\u001b[0m\u001b[1;31m:\u001b[0m invalid syntax\n"
     ]
    }
   ],
   "source": [
    "theta_0 =\n",
    "theta_0"
   ]
  },
  {
   "cell_type": "code",
   "execution_count": 16,
   "id": "1a564580",
   "metadata": {},
   "outputs": [
    {
     "data": {
      "image/png": "[encoded data removed]",
      "text/plain": [
       "<Figure size 576x432 with 1 Axes>"
      ]
     },
     "metadata": {
      "needs_background": "light"
     },
     "output_type": "display_data"
    }
   ],
   "source": [
    "\n",
    "plt.rcParams['figure.figsize'] = (8, 6)\n",
    "plt.plot(df_bill.bimester, df_bill.price_per_KWh, 'b^', label = 'real values')\n",
    "\n",
    "#plt.plot(df_bill.bimester, theta_0 + theta_1*df_bill.bimester, label = 'predicted values')\n",
    "\n",
    "plt.grid(True)\n",
    "plt.title(\"Price of KWh per bimester - Actual values vs Prediction\")\n",
    "plt.xlim(0, 12)\n",
    "plt.ylim(2.5, 3.5)\n",
    "plt.xlabel(\"Bimester\")\n",
    "plt.ylabel(\"$/KWh\")\n",
    "plt.legend(loc=\"best\")\n",
    "plt.savefig(\"lr_kwh_price_manual.png\", transparent=True)\n",
    "plt.show()"
   ]
  },
  {
   "cell_type": "markdown",
   "id": "f7a03791",
   "metadata": {},
   "source": [
    "## Linear Regression Using Sklearn"
   ]
  },
  {
   "cell_type": "code",
   "execution_count": 17,
   "id": "8c2dd443",
   "metadata": {},
   "outputs": [],
   "source": [
    "from sklearn.linear_model import LinearRegression\n",
    "\n",
    "X = df_bill.bimester.to_numpy()\n",
    "y = df_bill.price_per_KWh.to_numpy()\n",
    "\n",
    "X = X.reshape(-1, 1)\n",
    "y = y.reshape(-1, 1)\n",
    "\n",
    "#linear_regressor = LinearRegression()  # create object for the class\n",
    "#model = linear_regressor.fit(X, y)  # perform linear regression\n",
    "\n",
    "#y_pred = model.predict(X)  # make predictions\n",
    "#y_pred = y_pred.reshape(-1, 1)"
   ]
  },
  {
   "cell_type": "code",
   "execution_count": 31,
   "id": "64b2251e",
   "metadata": {},
   "outputs": [
    {
     "name": "stdout",
     "output_type": "stream",
     "text": [
      "theta_0:  [2.93773527]  theta_1:  [[0.00228826]]\n"
     ]
    }
   ],
   "source": [
    "print(\"theta_0: \", model.intercept_, \" theta_1: \", model.coef_)"
   ]
  },
  {
   "cell_type": "code",
   "execution_count": 20,
   "id": "3300a435",
   "metadata": {},
   "outputs": [
    {
     "data": {
      "image/png": "[encoded data removed]",
      "text/plain": [
       "<Figure size 576x432 with 1 Axes>"
      ]
     },
     "metadata": {
      "needs_background": "light"
     },
     "output_type": "display_data"
    }
   ],
   "source": [
    "\n",
    "plt.rcParams['figure.figsize'] = (8, 6)\n",
    "plt.plot(X, y, 'b^', label='actual values')\n",
    "plt.plot(X, y_pred, label= 'predicted values')\n",
    "\n",
    "plt.grid(True)\n",
    "plt.title(\"Price of KWh per bimester - Actual values vs Prediction\")\n",
    "plt.xlim(0, 10)\n",
    "plt.ylim(2.5, 3.5)\n",
    "plt.xlabel(\"Bimester\")\n",
    "plt.ylabel(\"$/KWh\")\n",
    "plt.savefig(\"lr_kwh_price_sklearn.png\", transparent=True)\n",
    "plt.show()"
   ]
  },
  {
   "cell_type": "markdown",
   "id": "46b7e294",
   "metadata": {},
   "source": [
    "**Create array of x values (bimester) to make predictions**"
   ]
  },
  {
   "cell_type": "code",
   "execution_count": 54,
   "id": "06f8ac01",
   "metadata": {},
   "outputs": [
    {
     "name": "stdout",
     "output_type": "stream",
     "text": [
      "   bimester  y_pred\n",
      "0       1.0   2.940\n",
      "1       2.0   2.942\n",
      "2       3.0   2.945\n",
      "3       4.0   2.947\n",
      "4       5.0   2.949\n",
      "5       6.0   2.951\n",
      "6       7.0   2.954\n",
      "7       8.0   2.956\n",
      "8       9.0   2.958\n",
      "9      10.0   2.961\n"
     ]
    }
   ],
   "source": [
    "#create array with 10 values\n",
    "X_test = np.arange(1,11).reshape(-1, 1)\n",
    "y_pred = model.predict(X_test)  # make predictions\n",
    "y_pred = y_pred.reshape(-1, 1)\n",
    "\n",
    "print(pd.DataFrame([X_test.reshape(-1), y_pred.reshape(-1)], index =['bimester', 'y_pred']).round(3).T)"
   ]
  },
  {
   "cell_type": "code",
   "execution_count": 58,
   "id": "7def9cae",
   "metadata": {},
   "outputs": [
    {
     "data": {
      "image/png": "[encoded data removed]",
      "text/plain": [
       "<Figure size 576x432 with 1 Axes>"
      ]
     },
     "metadata": {
      "needs_background": "light"
     },
     "output_type": "display_data"
    }
   ],
   "source": [
    "#Generate Plot\n",
    "bimester_pred = 9\n",
    "\n",
    "plt.rcParams['figure.figsize'] = (8, 6)\n",
    "plt.plot(X, y, 'b^', label='actual values')\n",
    "plt.plot(X_test, y_pred, label = 'predictions')\n",
    "\n",
    "plt.grid(True)\n",
    "plt.title(\"Price of KWh per bimester\")\n",
    "plt.xlim(0, 12)\n",
    "plt.ylim(2.5, 3.5)\n",
    "plt.xlabel(\"Bimester\")\n",
    "plt.ylabel(\"$/KWh\")\n",
    "plt.legend(loc=\"best\")\n",
    "\n",
    "#Price of electricity in bimester 9\n",
    "px = X_test[[bimester_pred -1 ]]\n",
    "py = y_pred[[bimester_pred - 1]]\n",
    "plt.plot(px, py, 'ro')\n",
    "plt.annotate(\"Prediction\", xy=(px, py), xytext=(px-0.4,py+0.2),\n",
    "                           color=\"green\", weight=\"heavy\", fontsize=14,\n",
    "                           arrowprops={\"facecolor\": \"lightgreen\"})\n",
    "plt.text(px+0.1, py-0.1, \"bimester = %0.2f\\ncost[$/KWh] = %0.2f\"%(px, py), rotation=0, color='gray')\n",
    "\n",
    "plt.savefig(\"lr_kwh_price_sklearn_test.png\", transparent=True)\n",
    "plt.show()"
   ]
  },
  {
   "cell_type": "markdown",
   "id": "2c3eae88",
   "metadata": {},
   "source": [
    "---\n",
    "## Activity:\n",
    "1. Use the input file assigned and complete the missing sections.\n",
    "\n",
    "2. Predict the cost of electricity `[$/KWh]` in bimester 15, and plot your results. Briefly explain why your prediction is accurate or not. What would you do to verify the accuracy of your prediction?\n",
    "\n",
    "3. Save your notebook as a pdf file. Submit the notebook and the pdf file in Canvas."
   ]
  }
 ],
 "metadata": {
  "kernelspec": {
   "display_name": "Python 3",
   "language": "python",
   "name": "python3"
  },
  "language_info": {
   "codemirror_mode": {
    "name": "ipython",
    "version": 3
   },
   "file_extension": ".py",
   "mimetype": "text/x-python",
   "name": "python",
   "nbconvert_exporter": "python",
   "pygments_lexer": "ipython3",
   "version": "3.8.8"
  }
 },
 "nbformat": 4,
 "nbformat_minor": 5
}
